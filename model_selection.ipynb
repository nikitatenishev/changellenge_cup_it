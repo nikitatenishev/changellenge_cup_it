{
 "cells": [
  {
   "cell_type": "markdown",
   "id": "070927d8",
   "metadata": {},
   "source": [
    "**Загрузим необходимый функционал**"
   ]
  },
  {
   "cell_type": "code",
   "execution_count": 1,
   "id": "d2689c1a",
   "metadata": {},
   "outputs": [],
   "source": [
    "import gc\n",
    "import pandas as pd\n",
    "from tqdm import tqdm\n",
    "from src import utils\n",
    "import lightgbm as lgb\n",
    "from catboost import CatBoostRanker, Pool\n",
    "from src.CatBoostValidation import CatBoostValidation\n",
    "\n",
    "tqdm.pandas()"
   ]
  },
  {
   "cell_type": "markdown",
   "id": "c48abf02",
   "metadata": {},
   "source": [
    "**Загрузим эмбеддинги постов и комментариев**"
   ]
  },
  {
   "cell_type": "code",
   "execution_count": 2,
   "id": "00d01de8",
   "metadata": {},
   "outputs": [
    {
     "name": "stdout",
     "output_type": "stream",
     "text": [
      "(440435, 768)\n",
      "(440435, 768)\n"
     ]
    }
   ],
   "source": [
    "with open(\"auxiliary_data/text_embed_train.npy\", \"rb\") as f:\n",
    "    df_text = np.load(f)\n",
    "print(df_text.shape)\n",
    "\n",
    "with open(\"auxiliary_data/comments_embed_train.npy\", \"rb\") as f:\n",
    "    df_coms = np.load(f)\n",
    "print(df_coms.shape)"
   ]
  },
  {
   "cell_type": "markdown",
   "id": "436cc78c",
   "metadata": {},
   "source": [
    "**Загрузим датафрейм со сгенерированными признаками**"
   ]
  },
  {
   "cell_type": "code",
   "execution_count": 3,
   "id": "fefd0efd",
   "metadata": {},
   "outputs": [
    {
     "data": {
      "text/plain": [
       "0"
      ]
     },
     "execution_count": 3,
     "metadata": {},
     "output_type": "execute_result"
    }
   ],
   "source": [
    "new = pd.read_csv(\"processed_train_data.csv\")\n",
    "new.drop([\"text\", \"comments\", \"score\"], axis=1, inplace=True)\n",
    "new.isna().sum().sum()"
   ]
  },
  {
   "cell_type": "markdown",
   "id": "b998f616",
   "metadata": {},
   "source": [
    "**Создадим обощённый тренировочный датафрейм**"
   ]
  },
  {
   "cell_type": "code",
   "execution_count": 4,
   "id": "79f2465e",
   "metadata": {},
   "outputs": [
    {
     "name": "stderr",
     "output_type": "stream",
     "text": [
      "100%|███████████████████████████████████████████████████████████████████████| 88087/88087 [00:00<00:00, 1599901.51it/s]\n"
     ]
    }
   ],
   "source": [
    "data_train = pd.DataFrame(columns=[f\"f{i}\" for i in range(df_coms.shape[1])], data=df_coms)\n",
    "data_train[\"cos\"] = new[\"cos_measure\"]\n",
    "data_train[\"euclid\"] = new[\"euclidean_measure\"]\n",
    "data_train[\"manh\"] = new[\"manhattan_measure\"]\n",
    "data_train[\"toxic\"] = new[\"toxic\"]\n",
    "data_train[\"percent_words\"] = new[\"percent_words\"]\n",
    "data_train[\"hard_sentence\"] = new[\"hard_sentence\"].astype(int)\n",
    "data_train[\"count_words\"] = new[\"count_words\"]\n",
    "data_train[\"unique_words\"] = new[\"unique_words\"]\n",
    "data_train[\"equality_toxic\"] = new[\"equality_toxic\"].astype(int)\n",
    "data_train[\"resemblance\"] = new[\"resemblance\"]\n",
    "\n",
    "data_train[\"score\"] = [0, 1, 2, 3, 4] * df_text[::5].shape[0]\n",
    "\n",
    "groups = []\n",
    "for i in tqdm(range(df_text[::5].shape[0])):\n",
    "    groups += [i] * 5\n",
    "    \n",
    "data_train[\"group_id\"] = groups\n",
    "\n",
    "del df_coms, groups, df_text, new\n",
    "gc.collect();"
   ]
  },
  {
   "cell_type": "markdown",
   "id": "ba35fa3c",
   "metadata": {},
   "source": [
    "**Для оценки перформанса модели выберем холдаут стратегию**"
   ]
  },
  {
   "cell_type": "code",
   "execution_count": 5,
   "id": "01c3a338",
   "metadata": {},
   "outputs": [],
   "source": [
    "train_test_split_threshold = int(data_train[\"group_id\"].quantile(0.8))\n",
    "\n",
    "x_train = data_train[data_train[\"group_id\"] <= train_test_split_threshold]\n",
    "x_valid = data_train[data_train[\"group_id\"] > train_test_split_threshold]\n",
    "x_valid.reset_index(drop=True, inplace=True)\n",
    "\n",
    "assert x_train.shape[0] % 5 == 0\n",
    "assert x_valid.shape[0] % 5 == 0\n",
    "\n",
    "x_train.shape, x_valid.shape\n",
    "\n",
    "del train_test_split_threshold\n",
    "gc.collect();"
   ]
  },
  {
   "cell_type": "markdown",
   "id": "a679dc2f",
   "metadata": {},
   "source": [
    "**Определим фичи, на которых будем обучаться, и группы для LightGBMRanker**"
   ]
  },
  {
   "cell_type": "code",
   "execution_count": 6,
   "id": "67d02afa",
   "metadata": {},
   "outputs": [
    {
     "name": "stdout",
     "output_type": "stream",
     "text": [
      "778\n"
     ]
    }
   ],
   "source": [
    "cols = list(data_train)\n",
    "cols.remove(\"group_id\")\n",
    "cols.remove(\"score\")\n",
    "print(len(cols))\n",
    "\n",
    "gc.collect();"
   ]
  },
  {
   "cell_type": "code",
   "execution_count": 7,
   "id": "f58115ca",
   "metadata": {},
   "outputs": [],
   "source": [
    "group_train = x_train.groupby(\"group_id\").size().reset_index(name=\"cnt\").cnt.values\n",
    "assert group_train.shape[0] * 5 == x_train.shape[0]"
   ]
  },
  {
   "cell_type": "markdown",
   "id": "3516ec19",
   "metadata": {},
   "source": [
    "**Инициализируем LightGBMRanker и оценим его перформанс по NDCG@5**"
   ]
  },
  {
   "cell_type": "code",
   "execution_count": 8,
   "id": "cc47ae77",
   "metadata": {
    "scrolled": true
   },
   "outputs": [
    {
     "name": "stdout",
     "output_type": "stream",
     "text": [
      "[LightGBM] [Debug] Dataset::GetMultiBinFromAllFeatures: sparse rate 0.001840\n",
      "[LightGBM] [Debug] init for col-wise cost 0.000169 seconds, init for row-wise cost 0.440664 seconds\n",
      "[LightGBM] [Warning] Auto-choosing col-wise multi-threading, the overhead of testing was 1.962390 seconds.\n",
      "You can set `force_col_wise=true` to remove the overhead.\n",
      "[LightGBM] [Info] Total Bins 197787\n",
      "[LightGBM] [Info] Number of data points in the train set: 352350, number of used features: 778\n",
      "[LightGBM] [Debug] Trained a tree with leaves = 31 and depth = 7\n",
      "[1]\tvalid_0's ndcg@5: 0.803406\n",
      "[LightGBM] [Debug] Trained a tree with leaves = 31 and depth = 8\n",
      "[2]\tvalid_0's ndcg@5: 0.813995\n",
      "[LightGBM] [Debug] Trained a tree with leaves = 31 and depth = 7\n",
      "[3]\tvalid_0's ndcg@5: 0.817683\n",
      "[LightGBM] [Debug] Trained a tree with leaves = 31 and depth = 7\n",
      "[4]\tvalid_0's ndcg@5: 0.818504\n",
      "[LightGBM] [Debug] Trained a tree with leaves = 31 and depth = 7\n",
      "[5]\tvalid_0's ndcg@5: 0.818548\n",
      "[LightGBM] [Debug] Trained a tree with leaves = 31 and depth = 8\n",
      "[6]\tvalid_0's ndcg@5: 0.818783\n",
      "[LightGBM] [Debug] Trained a tree with leaves = 31 and depth = 9\n",
      "[7]\tvalid_0's ndcg@5: 0.819205\n",
      "[LightGBM] [Debug] Trained a tree with leaves = 31 and depth = 8\n",
      "[8]\tvalid_0's ndcg@5: 0.819359\n",
      "[LightGBM] [Debug] Trained a tree with leaves = 31 and depth = 8\n",
      "[9]\tvalid_0's ndcg@5: 0.819598\n",
      "[LightGBM] [Debug] Trained a tree with leaves = 31 and depth = 9\n",
      "[10]\tvalid_0's ndcg@5: 0.819755\n",
      "[LightGBM] [Debug] Trained a tree with leaves = 31 and depth = 9\n",
      "[11]\tvalid_0's ndcg@5: 0.819951\n",
      "[LightGBM] [Debug] Trained a tree with leaves = 31 and depth = 9\n",
      "[12]\tvalid_0's ndcg@5: 0.819823\n",
      "[LightGBM] [Debug] Trained a tree with leaves = 31 and depth = 8\n",
      "[13]\tvalid_0's ndcg@5: 0.819914\n",
      "[LightGBM] [Debug] Trained a tree with leaves = 31 and depth = 9\n",
      "[14]\tvalid_0's ndcg@5: 0.820179\n",
      "[LightGBM] [Debug] Trained a tree with leaves = 31 and depth = 12\n",
      "[15]\tvalid_0's ndcg@5: 0.82031\n",
      "[LightGBM] [Debug] Trained a tree with leaves = 31 and depth = 10\n",
      "[16]\tvalid_0's ndcg@5: 0.820266\n",
      "[LightGBM] [Debug] Trained a tree with leaves = 31 and depth = 8\n",
      "[17]\tvalid_0's ndcg@5: 0.820463\n",
      "[LightGBM] [Debug] Trained a tree with leaves = 31 and depth = 11\n",
      "[18]\tvalid_0's ndcg@5: 0.820331\n",
      "[LightGBM] [Debug] Trained a tree with leaves = 31 and depth = 12\n",
      "[19]\tvalid_0's ndcg@5: 0.820154\n",
      "[LightGBM] [Debug] Trained a tree with leaves = 31 and depth = 10\n",
      "[20]\tvalid_0's ndcg@5: 0.820401\n",
      "[LightGBM] [Debug] Trained a tree with leaves = 31 and depth = 10\n",
      "[21]\tvalid_0's ndcg@5: 0.820372\n",
      "[LightGBM] [Debug] Trained a tree with leaves = 31 and depth = 8\n",
      "[22]\tvalid_0's ndcg@5: 0.82053\n",
      "[LightGBM] [Debug] Trained a tree with leaves = 31 and depth = 11\n",
      "[23]\tvalid_0's ndcg@5: 0.820598\n",
      "[LightGBM] [Debug] Trained a tree with leaves = 31 and depth = 9\n",
      "[24]\tvalid_0's ndcg@5: 0.820421\n",
      "[LightGBM] [Debug] Trained a tree with leaves = 31 and depth = 11\n",
      "[25]\tvalid_0's ndcg@5: 0.820183\n",
      "[LightGBM] [Debug] Trained a tree with leaves = 31 and depth = 10\n",
      "[26]\tvalid_0's ndcg@5: 0.820428\n",
      "[LightGBM] [Debug] Trained a tree with leaves = 31 and depth = 13\n",
      "[27]\tvalid_0's ndcg@5: 0.8203\n",
      "[LightGBM] [Debug] Trained a tree with leaves = 31 and depth = 10\n",
      "[28]\tvalid_0's ndcg@5: 0.820325\n",
      "[LightGBM] [Debug] Trained a tree with leaves = 31 and depth = 12\n",
      "[29]\tvalid_0's ndcg@5: 0.82026\n",
      "[LightGBM] [Debug] Trained a tree with leaves = 31 and depth = 9\n",
      "[30]\tvalid_0's ndcg@5: 0.820549\n",
      "[LightGBM] [Debug] Trained a tree with leaves = 31 and depth = 13\n",
      "[31]\tvalid_0's ndcg@5: 0.820537\n",
      "[LightGBM] [Debug] Trained a tree with leaves = 31 and depth = 8\n",
      "[32]\tvalid_0's ndcg@5: 0.820257\n",
      "[LightGBM] [Debug] Trained a tree with leaves = 31 and depth = 9\n",
      "[33]\tvalid_0's ndcg@5: 0.820374\n",
      "[LightGBM] [Debug] Trained a tree with leaves = 31 and depth = 10\n",
      "[34]\tvalid_0's ndcg@5: 0.820155\n",
      "[LightGBM] [Debug] Trained a tree with leaves = 31 and depth = 14\n",
      "[35]\tvalid_0's ndcg@5: 0.820253\n",
      "[LightGBM] [Debug] Trained a tree with leaves = 31 and depth = 12\n",
      "[36]\tvalid_0's ndcg@5: 0.820513\n",
      "[LightGBM] [Debug] Trained a tree with leaves = 31 and depth = 13\n",
      "[37]\tvalid_0's ndcg@5: 0.820497\n",
      "[LightGBM] [Debug] Trained a tree with leaves = 31 and depth = 12\n",
      "[38]\tvalid_0's ndcg@5: 0.820464\n",
      "[LightGBM] [Debug] Trained a tree with leaves = 31 and depth = 10\n",
      "[39]\tvalid_0's ndcg@5: 0.820562\n",
      "[LightGBM] [Debug] Trained a tree with leaves = 31 and depth = 9\n",
      "[40]\tvalid_0's ndcg@5: 0.820637\n",
      "[LightGBM] [Debug] Trained a tree with leaves = 31 and depth = 11\n",
      "[41]\tvalid_0's ndcg@5: 0.820642\n",
      "[LightGBM] [Debug] Trained a tree with leaves = 31 and depth = 13\n",
      "[42]\tvalid_0's ndcg@5: 0.820753\n",
      "[LightGBM] [Debug] Trained a tree with leaves = 31 and depth = 15\n",
      "[43]\tvalid_0's ndcg@5: 0.820941\n",
      "[LightGBM] [Debug] Trained a tree with leaves = 31 and depth = 8\n",
      "[44]\tvalid_0's ndcg@5: 0.820846\n",
      "[LightGBM] [Debug] Trained a tree with leaves = 31 and depth = 9\n",
      "[45]\tvalid_0's ndcg@5: 0.820886\n",
      "[LightGBM] [Debug] Trained a tree with leaves = 31 and depth = 9\n",
      "[46]\tvalid_0's ndcg@5: 0.820891\n",
      "[LightGBM] [Debug] Trained a tree with leaves = 31 and depth = 10\n",
      "[47]\tvalid_0's ndcg@5: 0.820822\n",
      "[LightGBM] [Debug] Trained a tree with leaves = 31 and depth = 10\n",
      "[48]\tvalid_0's ndcg@5: 0.820929\n",
      "[LightGBM] [Debug] Trained a tree with leaves = 31 and depth = 9\n",
      "[49]\tvalid_0's ndcg@5: 0.820921\n",
      "[LightGBM] [Debug] Trained a tree with leaves = 31 and depth = 10\n",
      "[50]\tvalid_0's ndcg@5: 0.820933\n",
      "[LightGBM] [Debug] Trained a tree with leaves = 31 and depth = 8\n",
      "[51]\tvalid_0's ndcg@5: 0.821072\n",
      "[LightGBM] [Debug] Trained a tree with leaves = 31 and depth = 11\n",
      "[52]\tvalid_0's ndcg@5: 0.820969\n",
      "[LightGBM] [Debug] Trained a tree with leaves = 31 and depth = 11\n",
      "[53]\tvalid_0's ndcg@5: 0.820993\n",
      "[LightGBM] [Debug] Trained a tree with leaves = 31 and depth = 9\n",
      "[54]\tvalid_0's ndcg@5: 0.820894\n",
      "[LightGBM] [Debug] Trained a tree with leaves = 31 and depth = 10\n",
      "[55]\tvalid_0's ndcg@5: 0.820837\n",
      "[LightGBM] [Debug] Trained a tree with leaves = 31 and depth = 11\n",
      "[56]\tvalid_0's ndcg@5: 0.820842\n",
      "[LightGBM] [Debug] Trained a tree with leaves = 31 and depth = 10\n",
      "[57]\tvalid_0's ndcg@5: 0.820882\n",
      "[LightGBM] [Debug] Trained a tree with leaves = 31 and depth = 14\n",
      "[58]\tvalid_0's ndcg@5: 0.820972\n",
      "[LightGBM] [Debug] Trained a tree with leaves = 31 and depth = 8\n",
      "[59]\tvalid_0's ndcg@5: 0.820941\n",
      "[LightGBM] [Debug] Trained a tree with leaves = 31 and depth = 11\n",
      "[60]\tvalid_0's ndcg@5: 0.82097\n",
      "[LightGBM] [Debug] Trained a tree with leaves = 31 and depth = 11\n",
      "[61]\tvalid_0's ndcg@5: 0.820806\n",
      "[LightGBM] [Debug] Trained a tree with leaves = 31 and depth = 13\n",
      "[62]\tvalid_0's ndcg@5: 0.820721\n",
      "[LightGBM] [Debug] Trained a tree with leaves = 31 and depth = 11\n",
      "[63]\tvalid_0's ndcg@5: 0.820722\n",
      "[LightGBM] [Debug] Trained a tree with leaves = 31 and depth = 9\n",
      "[64]\tvalid_0's ndcg@5: 0.820914\n",
      "[LightGBM] [Debug] Trained a tree with leaves = 31 and depth = 12\n",
      "[65]\tvalid_0's ndcg@5: 0.8209\n",
      "[LightGBM] [Debug] Trained a tree with leaves = 31 and depth = 10\n",
      "[66]\tvalid_0's ndcg@5: 0.820654\n",
      "[LightGBM] [Debug] Trained a tree with leaves = 31 and depth = 13\n",
      "[67]\tvalid_0's ndcg@5: 0.820537\n",
      "[LightGBM] [Debug] Trained a tree with leaves = 31 and depth = 9\n",
      "[68]\tvalid_0's ndcg@5: 0.820625\n",
      "[LightGBM] [Debug] Trained a tree with leaves = 31 and depth = 11\n",
      "[69]\tvalid_0's ndcg@5: 0.820651\n",
      "[LightGBM] [Debug] Trained a tree with leaves = 31 and depth = 9\n",
      "[70]\tvalid_0's ndcg@5: 0.82072\n",
      "[LightGBM] [Debug] Trained a tree with leaves = 31 and depth = 11\n",
      "[71]\tvalid_0's ndcg@5: 0.820812\n",
      "[LightGBM] [Debug] Trained a tree with leaves = 31 and depth = 9\n",
      "[72]\tvalid_0's ndcg@5: 0.820643\n",
      "[LightGBM] [Debug] Trained a tree with leaves = 31 and depth = 9\n",
      "[73]\tvalid_0's ndcg@5: 0.820808\n",
      "[LightGBM] [Debug] Trained a tree with leaves = 31 and depth = 9\n",
      "[74]\tvalid_0's ndcg@5: 0.820757\n",
      "[LightGBM] [Debug] Trained a tree with leaves = 31 and depth = 8\n",
      "[75]\tvalid_0's ndcg@5: 0.820571\n",
      "[LightGBM] [Debug] Trained a tree with leaves = 31 and depth = 10\n",
      "[76]\tvalid_0's ndcg@5: 0.820526\n",
      "[LightGBM] [Debug] Trained a tree with leaves = 31 and depth = 9\n",
      "[77]\tvalid_0's ndcg@5: 0.820607\n",
      "[LightGBM] [Debug] Trained a tree with leaves = 31 and depth = 10\n",
      "[78]\tvalid_0's ndcg@5: 0.820672\n",
      "[LightGBM] [Debug] Trained a tree with leaves = 31 and depth = 11\n",
      "[79]\tvalid_0's ndcg@5: 0.820675\n",
      "[LightGBM] [Debug] Trained a tree with leaves = 31 and depth = 10\n",
      "[80]\tvalid_0's ndcg@5: 0.820363\n",
      "[LightGBM] [Debug] Trained a tree with leaves = 31 and depth = 9\n",
      "[81]\tvalid_0's ndcg@5: 0.820392\n"
     ]
    },
    {
     "name": "stdout",
     "output_type": "stream",
     "text": [
      "[LightGBM] [Debug] Trained a tree with leaves = 31 and depth = 11\n",
      "[82]\tvalid_0's ndcg@5: 0.820453\n",
      "[LightGBM] [Debug] Trained a tree with leaves = 31 and depth = 11\n",
      "[83]\tvalid_0's ndcg@5: 0.820738\n",
      "[LightGBM] [Debug] Trained a tree with leaves = 31 and depth = 10\n",
      "[84]\tvalid_0's ndcg@5: 0.820543\n",
      "[LightGBM] [Debug] Trained a tree with leaves = 31 and depth = 11\n",
      "[85]\tvalid_0's ndcg@5: 0.8207\n",
      "[LightGBM] [Debug] Trained a tree with leaves = 31 and depth = 10\n",
      "[86]\tvalid_0's ndcg@5: 0.820663\n",
      "[LightGBM] [Debug] Trained a tree with leaves = 31 and depth = 8\n",
      "[87]\tvalid_0's ndcg@5: 0.82066\n",
      "[LightGBM] [Debug] Trained a tree with leaves = 31 and depth = 9\n",
      "[88]\tvalid_0's ndcg@5: 0.820764\n",
      "[LightGBM] [Debug] Trained a tree with leaves = 31 and depth = 11\n",
      "[89]\tvalid_0's ndcg@5: 0.820783\n",
      "[LightGBM] [Debug] Trained a tree with leaves = 31 and depth = 13\n",
      "[90]\tvalid_0's ndcg@5: 0.820918\n",
      "[LightGBM] [Debug] Trained a tree with leaves = 31 and depth = 9\n",
      "[91]\tvalid_0's ndcg@5: 0.820899\n",
      "[LightGBM] [Debug] Trained a tree with leaves = 31 and depth = 8\n",
      "[92]\tvalid_0's ndcg@5: 0.821102\n",
      "[LightGBM] [Debug] Trained a tree with leaves = 31 and depth = 11\n",
      "[93]\tvalid_0's ndcg@5: 0.821102\n",
      "[LightGBM] [Debug] Trained a tree with leaves = 31 and depth = 12\n",
      "[94]\tvalid_0's ndcg@5: 0.821099\n",
      "[LightGBM] [Debug] Trained a tree with leaves = 31 and depth = 11\n",
      "[95]\tvalid_0's ndcg@5: 0.821046\n",
      "[LightGBM] [Debug] Trained a tree with leaves = 31 and depth = 14\n",
      "[96]\tvalid_0's ndcg@5: 0.821038\n",
      "[LightGBM] [Debug] Trained a tree with leaves = 31 and depth = 11\n",
      "[97]\tvalid_0's ndcg@5: 0.820963\n",
      "[LightGBM] [Debug] Trained a tree with leaves = 31 and depth = 10\n",
      "[98]\tvalid_0's ndcg@5: 0.820986\n",
      "[LightGBM] [Debug] Trained a tree with leaves = 31 and depth = 8\n",
      "[99]\tvalid_0's ndcg@5: 0.820891\n",
      "[LightGBM] [Debug] Trained a tree with leaves = 31 and depth = 9\n",
      "[100]\tvalid_0's ndcg@5: 0.820712\n"
     ]
    },
    {
     "data": {
      "text/html": [
       "<style>#sk-container-id-1 {color: black;background-color: white;}#sk-container-id-1 pre{padding: 0;}#sk-container-id-1 div.sk-toggleable {background-color: white;}#sk-container-id-1 label.sk-toggleable__label {cursor: pointer;display: block;width: 100%;margin-bottom: 0;padding: 0.3em;box-sizing: border-box;text-align: center;}#sk-container-id-1 label.sk-toggleable__label-arrow:before {content: \"▸\";float: left;margin-right: 0.25em;color: #696969;}#sk-container-id-1 label.sk-toggleable__label-arrow:hover:before {color: black;}#sk-container-id-1 div.sk-estimator:hover label.sk-toggleable__label-arrow:before {color: black;}#sk-container-id-1 div.sk-toggleable__content {max-height: 0;max-width: 0;overflow: hidden;text-align: left;background-color: #f0f8ff;}#sk-container-id-1 div.sk-toggleable__content pre {margin: 0.2em;color: black;border-radius: 0.25em;background-color: #f0f8ff;}#sk-container-id-1 input.sk-toggleable__control:checked~div.sk-toggleable__content {max-height: 200px;max-width: 100%;overflow: auto;}#sk-container-id-1 input.sk-toggleable__control:checked~label.sk-toggleable__label-arrow:before {content: \"▾\";}#sk-container-id-1 div.sk-estimator input.sk-toggleable__control:checked~label.sk-toggleable__label {background-color: #d4ebff;}#sk-container-id-1 div.sk-label input.sk-toggleable__control:checked~label.sk-toggleable__label {background-color: #d4ebff;}#sk-container-id-1 input.sk-hidden--visually {border: 0;clip: rect(1px 1px 1px 1px);clip: rect(1px, 1px, 1px, 1px);height: 1px;margin: -1px;overflow: hidden;padding: 0;position: absolute;width: 1px;}#sk-container-id-1 div.sk-estimator {font-family: monospace;background-color: #f0f8ff;border: 1px dotted black;border-radius: 0.25em;box-sizing: border-box;margin-bottom: 0.5em;}#sk-container-id-1 div.sk-estimator:hover {background-color: #d4ebff;}#sk-container-id-1 div.sk-parallel-item::after {content: \"\";width: 100%;border-bottom: 1px solid gray;flex-grow: 1;}#sk-container-id-1 div.sk-label:hover label.sk-toggleable__label {background-color: #d4ebff;}#sk-container-id-1 div.sk-serial::before {content: \"\";position: absolute;border-left: 1px solid gray;box-sizing: border-box;top: 0;bottom: 0;left: 50%;z-index: 0;}#sk-container-id-1 div.sk-serial {display: flex;flex-direction: column;align-items: center;background-color: white;padding-right: 0.2em;padding-left: 0.2em;position: relative;}#sk-container-id-1 div.sk-item {position: relative;z-index: 1;}#sk-container-id-1 div.sk-parallel {display: flex;align-items: stretch;justify-content: center;background-color: white;position: relative;}#sk-container-id-1 div.sk-item::before, #sk-container-id-1 div.sk-parallel-item::before {content: \"\";position: absolute;border-left: 1px solid gray;box-sizing: border-box;top: 0;bottom: 0;left: 50%;z-index: -1;}#sk-container-id-1 div.sk-parallel-item {display: flex;flex-direction: column;z-index: 1;position: relative;background-color: white;}#sk-container-id-1 div.sk-parallel-item:first-child::after {align-self: flex-end;width: 50%;}#sk-container-id-1 div.sk-parallel-item:last-child::after {align-self: flex-start;width: 50%;}#sk-container-id-1 div.sk-parallel-item:only-child::after {width: 0;}#sk-container-id-1 div.sk-dashed-wrapped {border: 1px dashed gray;margin: 0 0.4em 0.5em 0.4em;box-sizing: border-box;padding-bottom: 0.4em;background-color: white;}#sk-container-id-1 div.sk-label label {font-family: monospace;font-weight: bold;display: inline-block;line-height: 1.2em;}#sk-container-id-1 div.sk-label-container {text-align: center;}#sk-container-id-1 div.sk-container {/* jupyter's `normalize.less` sets `[hidden] { display: none; }` but bootstrap.min.css set `[hidden] { display: none !important; }` so we also need the `!important` here to be able to override the default hidden behavior on the sphinx rendered scikit-learn.org. See: https://github.com/scikit-learn/scikit-learn/issues/21755 */display: inline-block !important;position: relative;}#sk-container-id-1 div.sk-text-repr-fallback {display: none;}</style><div id=\"sk-container-id-1\" class=\"sk-top-container\"><div class=\"sk-text-repr-fallback\"><pre>LGBMRanker(n_jobs=12, random_state=33, verbose=20)</pre><b>In a Jupyter environment, please rerun this cell to show the HTML representation or trust the notebook. <br />On GitHub, the HTML representation is unable to render, please try loading this page with nbviewer.org.</b></div><div class=\"sk-container\" hidden><div class=\"sk-item\"><div class=\"sk-estimator sk-toggleable\"><input class=\"sk-toggleable__control sk-hidden--visually\" id=\"sk-estimator-id-1\" type=\"checkbox\" checked><label for=\"sk-estimator-id-1\" class=\"sk-toggleable__label sk-toggleable__label-arrow\">LGBMRanker</label><div class=\"sk-toggleable__content\"><pre>LGBMRanker(n_jobs=12, random_state=33, verbose=20)</pre></div></div></div></div></div>"
      ],
      "text/plain": [
       "LGBMRanker(n_jobs=12, random_state=33, verbose=20)"
      ]
     },
     "execution_count": 8,
     "metadata": {},
     "output_type": "execute_result"
    }
   ],
   "source": [
    "ranker_model = lgb.LGBMRanker(\n",
    "    n_estimators = 100,\n",
    "    random_state = 33,\n",
    "    n_jobs = 12,\n",
    "    verbose = 20,\n",
    "    learning_rate = 0.1\n",
    ")\n",
    "\n",
    "ranker_model.fit(\n",
    "    x_train[cols], \n",
    "    x_train[\"score\"], \n",
    "    group=group_train,\n",
    "    eval_set=[(x_valid[cols], x_valid[\"score\"])],\n",
    "    eval_group=[[5] * (x_valid.shape[0] // 5)],\n",
    "    eval_at=[5],\n",
    ")"
   ]
  },
  {
   "cell_type": "markdown",
   "id": "1da1c59d",
   "metadata": {},
   "source": [
    "**Соберём пул данных для CatBoostRanker**"
   ]
  },
  {
   "cell_type": "code",
   "execution_count": 9,
   "id": "757db57f",
   "metadata": {},
   "outputs": [],
   "source": [
    "train = Pool(\n",
    "    data=x_train[cols],\n",
    "    label=x_train[\"score\"],\n",
    "    group_id=x_train[\"group_id\"].values\n",
    ")\n",
    "\n",
    "test = Pool(\n",
    "    data=x_valid[cols],\n",
    "    label=x_valid[\"score\"],\n",
    "    group_id=x_valid[\"group_id\"].values\n",
    ")"
   ]
  },
  {
   "cell_type": "markdown",
   "id": "830521ac",
   "metadata": {},
   "source": [
    "**Инициализируем CatBoostRanker и оценим его перформанс по NDCG@5**"
   ]
  },
  {
   "cell_type": "code",
   "execution_count": 10,
   "id": "c1168c05",
   "metadata": {
    "scrolled": true
   },
   "outputs": [
    {
     "name": "stderr",
     "output_type": "stream",
     "text": [
      "Metric NDCG:type=Base is not implemented on GPU. Will use CPU for metric computation, this could significantly affect learning time\n",
      "Metric NDCG:type=Base is not implemented on GPU. Will use CPU for metric computation, this could significantly affect learning time\n",
      "Metric NDCG:top=5;type=Base is not implemented on GPU. Will use CPU for metric computation, this could significantly affect learning time\n"
     ]
    },
    {
     "name": "stdout",
     "output_type": "stream",
     "text": [
      "0:\ttest: 0.8561528\tbest: 0.8561528 (0)\ttotal: 62.8ms\tremaining: 6.22s\n",
      "20:\ttest: 0.8834403\tbest: 0.8834403 (20)\ttotal: 939ms\tremaining: 3.53s\n",
      "40:\ttest: 0.8860708\tbest: 0.8860708 (40)\ttotal: 1.75s\tremaining: 2.52s\n",
      "60:\ttest: 0.8863823\tbest: 0.8863823 (60)\ttotal: 2.56s\tremaining: 1.64s\n",
      "80:\ttest: 0.8864115\tbest: 0.8864115 (80)\ttotal: 3.35s\tremaining: 786ms\n",
      "99:\ttest: 0.8866951\tbest: 0.8866951 (99)\ttotal: 4.12s\tremaining: 0us\n",
      "bestTest = 0.8866951384\n",
      "bestIteration = 99\n"
     ]
    },
    {
     "data": {
      "text/plain": [
       "<catboost.core.CatBoostRanker at 0x1a162dd1580>"
      ]
     },
     "execution_count": 10,
     "metadata": {},
     "output_type": "execute_result"
    }
   ],
   "source": [
    "model = CatBoostRanker(\n",
    "    iterations = 100,\n",
    "    custom_metric = [\"NDCG:top=5\"],\n",
    "    verbose = True,\n",
    "    random_seed = 33,\n",
    "    loss_function = \"YetiRank\",\n",
    "    task_type = \"GPU\",\n",
    "    metric_period = 20,\n",
    ")\n",
    "model.fit(train, eval_set=test, plot=False)"
   ]
  },
  {
   "cell_type": "markdown",
   "id": "4f9d3d3d",
   "metadata": {},
   "source": [
    "**В качестве основного ранжирующего алгоритма возьмём - CatBoostRanker**\n",
    "\n",
    "**Для более устойчивой оценки перформанса модели используем стратегию кросс валидации на 5 фолдах**"
   ]
  },
  {
   "cell_type": "code",
   "execution_count": 11,
   "id": "a3b895ef",
   "metadata": {},
   "outputs": [],
   "source": [
    "# cols = list(data_train)\n",
    "# cols.remove(\"group_id\")\n",
    "# cols.remove(\"score\")\n",
    "\n",
    "cbval = CatBoostValidation(\n",
    "    data_train[cols],\n",
    "    data_train[\"score\"],\n",
    "    data_train[\"group_id\"]\n",
    ")"
   ]
  },
  {
   "cell_type": "code",
   "execution_count": 12,
   "id": "2a28d581",
   "metadata": {
    "scrolled": true
   },
   "outputs": [
    {
     "name": "stderr",
     "output_type": "stream",
     "text": [
      "Metric NDCG:type=Base is not implemented on GPU. Will use CPU for metric computation, this could significantly affect learning time\n",
      "Metric NDCG:type=Base is not implemented on GPU. Will use CPU for metric computation, this could significantly affect learning time\n",
      "Metric NDCG:top=5;type=Base is not implemented on GPU. Will use CPU for metric computation, this could significantly affect learning time\n"
     ]
    },
    {
     "name": "stdout",
     "output_type": "stream",
     "text": [
      "0:\ttest: 0.8543879\tbest: 0.8543879 (0)\ttotal: 51.7ms\tremaining: 5.12s\n",
      "20:\ttest: 0.8821573\tbest: 0.8821573 (20)\ttotal: 907ms\tremaining: 3.41s\n",
      "40:\ttest: 0.8836456\tbest: 0.8836456 (40)\ttotal: 1.73s\tremaining: 2.5s\n",
      "60:\ttest: 0.8836472\tbest: 0.8836472 (60)\ttotal: 2.56s\tremaining: 1.63s\n",
      "80:\ttest: 0.8838177\tbest: 0.8838177 (80)\ttotal: 3.37s\tremaining: 791ms\n",
      "99:\ttest: 0.8839875\tbest: 0.8839875 (99)\ttotal: 4.15s\tremaining: 0us\n",
      "bestTest = 0.8839875359\n",
      "bestIteration = 99\n",
      "======================================================================\n"
     ]
    },
    {
     "name": "stderr",
     "output_type": "stream",
     "text": [
      "Metric NDCG:type=Base is not implemented on GPU. Will use CPU for metric computation, this could significantly affect learning time\n",
      "Metric NDCG:type=Base is not implemented on GPU. Will use CPU for metric computation, this could significantly affect learning time\n",
      "Metric NDCG:top=5;type=Base is not implemented on GPU. Will use CPU for metric computation, this could significantly affect learning time\n"
     ]
    },
    {
     "name": "stdout",
     "output_type": "stream",
     "text": [
      "0:\ttest: 0.8506871\tbest: 0.8506871 (0)\ttotal: 54.7ms\tremaining: 5.41s\n",
      "20:\ttest: 0.8800754\tbest: 0.8800754 (20)\ttotal: 928ms\tremaining: 3.49s\n",
      "40:\ttest: 0.8820903\tbest: 0.8820903 (40)\ttotal: 1.74s\tremaining: 2.51s\n",
      "60:\ttest: 0.8825418\tbest: 0.8825418 (60)\ttotal: 2.56s\tremaining: 1.64s\n",
      "80:\ttest: 0.8826839\tbest: 0.8826839 (80)\ttotal: 3.38s\tremaining: 792ms\n",
      "99:\ttest: 0.8829353\tbest: 0.8829353 (99)\ttotal: 4.13s\tremaining: 0us\n",
      "bestTest = 0.8829352762\n",
      "bestIteration = 99\n",
      "======================================================================\n"
     ]
    },
    {
     "name": "stderr",
     "output_type": "stream",
     "text": [
      "Metric NDCG:type=Base is not implemented on GPU. Will use CPU for metric computation, this could significantly affect learning time\n",
      "Metric NDCG:type=Base is not implemented on GPU. Will use CPU for metric computation, this could significantly affect learning time\n",
      "Metric NDCG:top=5;type=Base is not implemented on GPU. Will use CPU for metric computation, this could significantly affect learning time\n"
     ]
    },
    {
     "name": "stdout",
     "output_type": "stream",
     "text": [
      "0:\ttest: 0.8613482\tbest: 0.8613482 (0)\ttotal: 53.1ms\tremaining: 5.26s\n",
      "20:\ttest: 0.8796632\tbest: 0.8796632 (20)\ttotal: 922ms\tremaining: 3.47s\n",
      "40:\ttest: 0.8823026\tbest: 0.8823026 (40)\ttotal: 1.76s\tremaining: 2.54s\n",
      "60:\ttest: 0.8824984\tbest: 0.8824984 (60)\ttotal: 2.6s\tremaining: 1.66s\n",
      "80:\ttest: 0.8828549\tbest: 0.8828549 (80)\ttotal: 3.44s\tremaining: 806ms\n",
      "99:\ttest: 0.8830388\tbest: 0.8830388 (99)\ttotal: 4.21s\tremaining: 0us\n",
      "bestTest = 0.8830387672\n",
      "bestIteration = 99\n",
      "======================================================================\n"
     ]
    },
    {
     "name": "stderr",
     "output_type": "stream",
     "text": [
      "Metric NDCG:type=Base is not implemented on GPU. Will use CPU for metric computation, this could significantly affect learning time\n",
      "Metric NDCG:type=Base is not implemented on GPU. Will use CPU for metric computation, this could significantly affect learning time\n",
      "Metric NDCG:top=5;type=Base is not implemented on GPU. Will use CPU for metric computation, this could significantly affect learning time\n"
     ]
    },
    {
     "name": "stdout",
     "output_type": "stream",
     "text": [
      "0:\ttest: 0.8502244\tbest: 0.8502244 (0)\ttotal: 51.7ms\tremaining: 5.12s\n",
      "20:\ttest: 0.8797466\tbest: 0.8797466 (20)\ttotal: 920ms\tremaining: 3.46s\n",
      "40:\ttest: 0.8823074\tbest: 0.8823074 (40)\ttotal: 1.74s\tremaining: 2.5s\n",
      "60:\ttest: 0.8825804\tbest: 0.8825804 (60)\ttotal: 2.57s\tremaining: 1.64s\n",
      "80:\ttest: 0.8828445\tbest: 0.8828445 (80)\ttotal: 3.4s\tremaining: 798ms\n",
      "99:\ttest: 0.8830881\tbest: 0.8830881 (99)\ttotal: 4.17s\tremaining: 0us\n",
      "bestTest = 0.8830881165\n",
      "bestIteration = 99\n",
      "======================================================================\n"
     ]
    },
    {
     "name": "stderr",
     "output_type": "stream",
     "text": [
      "Metric NDCG:type=Base is not implemented on GPU. Will use CPU for metric computation, this could significantly affect learning time\n",
      "Metric NDCG:type=Base is not implemented on GPU. Will use CPU for metric computation, this could significantly affect learning time\n",
      "Metric NDCG:top=5;type=Base is not implemented on GPU. Will use CPU for metric computation, this could significantly affect learning time\n"
     ]
    },
    {
     "name": "stdout",
     "output_type": "stream",
     "text": [
      "0:\ttest: 0.8546783\tbest: 0.8546783 (0)\ttotal: 51.9ms\tremaining: 5.14s\n",
      "20:\ttest: 0.8812752\tbest: 0.8812752 (20)\ttotal: 909ms\tremaining: 3.42s\n",
      "40:\ttest: 0.8823533\tbest: 0.8823533 (40)\ttotal: 1.73s\tremaining: 2.49s\n",
      "60:\ttest: 0.8824615\tbest: 0.8824615 (60)\ttotal: 2.54s\tremaining: 1.62s\n",
      "80:\ttest: 0.8826561\tbest: 0.8826561 (80)\ttotal: 3.36s\tremaining: 787ms\n",
      "99:\ttest: 0.8827907\tbest: 0.8827907 (99)\ttotal: 4.11s\tremaining: 0us\n",
      "bestTest = 0.8827906602\n",
      "bestIteration = 99\n",
      "======================================================================\n",
      "[mean NDCG@5]: 0.8831681\n"
     ]
    }
   ],
   "source": [
    "cbval.validate()"
   ]
  },
  {
   "cell_type": "markdown",
   "id": "ebad877f",
   "metadata": {},
   "source": [
    "**Обучим модель на полном тренировочном наборе данных и сохраним полученные веса**"
   ]
  },
  {
   "cell_type": "code",
   "execution_count": 13,
   "id": "e344b9c3",
   "metadata": {},
   "outputs": [
    {
     "name": "stderr",
     "output_type": "stream",
     "text": [
      "Metric NDCG:type=Base is not implemented on GPU. Will use CPU for metric computation, this could significantly affect learning time\n",
      "Metric NDCG:type=Base is not implemented on GPU. Will use CPU for metric computation, this could significantly affect learning time\n",
      "Metric NDCG:top=5;type=Base is not implemented on GPU. Will use CPU for metric computation, this could significantly affect learning time\n"
     ]
    },
    {
     "name": "stdout",
     "output_type": "stream",
     "text": [
      "0:\ttotal: 56ms\tremaining: 5.54s\n",
      "20:\ttotal: 1.05s\tremaining: 3.95s\n",
      "40:\ttotal: 2s\tremaining: 2.88s\n",
      "60:\ttotal: 2.95s\tremaining: 1.89s\n",
      "80:\ttotal: 3.89s\tremaining: 913ms\n",
      "99:\ttotal: 4.79s\tremaining: 0us\n"
     ]
    },
    {
     "data": {
      "text/plain": [
       "<catboost.core.CatBoostRanker at 0x1a16311eee0>"
      ]
     },
     "execution_count": 13,
     "metadata": {},
     "output_type": "execute_result"
    }
   ],
   "source": [
    "full_train = Pool(\n",
    "    data=data_train[cols],\n",
    "    label=data_train[\"score\"],\n",
    "    group_id=data_train[\"group_id\"].values\n",
    ")\n",
    "\n",
    "ranker = CatBoostRanker(\n",
    "    iterations = 100,\n",
    "    custom_metric = [\"NDCG:top=5\"],\n",
    "    verbose = True,\n",
    "    random_seed = 33,\n",
    "    loss_function = \"YetiRank\",\n",
    "    task_type = \"GPU\",\n",
    "    metric_period = 20,\n",
    ")\n",
    "ranker.fit(full_train, plot=False)"
   ]
  },
  {
   "cell_type": "code",
   "execution_count": 15,
   "id": "c1578d60",
   "metadata": {},
   "outputs": [],
   "source": [
    "ranker.save_model(\"ranker\", export_parameters=False)"
   ]
  },
  {
   "cell_type": "markdown",
   "id": "94399f32",
   "metadata": {},
   "source": [
    "---"
   ]
  }
 ],
 "metadata": {
  "kernelspec": {
   "display_name": "Python 3 (ipykernel)",
   "language": "python",
   "name": "python3"
  },
  "language_info": {
   "codemirror_mode": {
    "name": "ipython",
    "version": 3
   },
   "file_extension": ".py",
   "mimetype": "text/x-python",
   "name": "python",
   "nbconvert_exporter": "python",
   "pygments_lexer": "ipython3",
   "version": "3.9.13"
  },
  "varInspector": {
   "cols": {
    "lenName": 16,
    "lenType": 16,
    "lenVar": 40
   },
   "kernels_config": {
    "python": {
     "delete_cmd_postfix": "",
     "delete_cmd_prefix": "del ",
     "library": "var_list.py",
     "varRefreshCmd": "print(var_dic_list())"
    },
    "r": {
     "delete_cmd_postfix": ") ",
     "delete_cmd_prefix": "rm(",
     "library": "var_list.r",
     "varRefreshCmd": "cat(var_dic_list()) "
    }
   },
   "types_to_exclude": [
    "module",
    "function",
    "builtin_function_or_method",
    "instance",
    "_Feature"
   ],
   "window_display": false
  }
 },
 "nbformat": 4,
 "nbformat_minor": 5
}
