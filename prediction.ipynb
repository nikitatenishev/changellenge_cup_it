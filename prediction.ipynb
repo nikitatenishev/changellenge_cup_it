{
 "cells": [
  {
   "cell_type": "markdown",
   "id": "f15a7e19",
   "metadata": {},
   "source": [
    "**Загрузим необходимый функционал**"
   ]
  },
  {
   "cell_type": "code",
   "execution_count": 1,
   "id": "657c2a9b",
   "metadata": {},
   "outputs": [],
   "source": [
    "import gc\n",
    "import json\n",
    "import pandas as pd\n",
    "from tqdm import tqdm\n",
    "from src import utils\n",
    "from catboost import CatBoostRanker, Pool\n",
    "\n",
    "tqdm.pandas()"
   ]
  },
  {
   "cell_type": "markdown",
   "id": "405dace1",
   "metadata": {},
   "source": [
    "**Загрузим эмбеддинги постов и комментариев**"
   ]
  },
  {
   "cell_type": "code",
   "execution_count": 2,
   "id": "687e208a",
   "metadata": {},
   "outputs": [
    {
     "name": "stdout",
     "output_type": "stream",
     "text": [
      "(70020, 768)\n",
      "(70020, 768)\n"
     ]
    }
   ],
   "source": [
    "with open(\"auxiliary_data/text_embed_test.npy\", \"rb\") as f:\n",
    "    df_text = np.load(f)\n",
    "print(df_text.shape)\n",
    "\n",
    "with open(\"auxiliary_data/comments_embed_test.npy\", \"rb\") as f:\n",
    "    df_coms = np.load(f)\n",
    "print(df_coms.shape)"
   ]
  },
  {
   "cell_type": "markdown",
   "id": "2e7aab93",
   "metadata": {},
   "source": [
    "**Загрузим датафрейм со сгенерированными признаками**"
   ]
  },
  {
   "cell_type": "code",
   "execution_count": 3,
   "id": "47532672",
   "metadata": {},
   "outputs": [
    {
     "data": {
      "text/plain": [
       "0"
      ]
     },
     "execution_count": 3,
     "metadata": {},
     "output_type": "execute_result"
    }
   ],
   "source": [
    "new = pd.read_csv(\"processed_test_data.csv\")\n",
    "new.drop([\"text\", \"comments\"], axis=1, inplace=True)\n",
    "new.isna().sum().sum()"
   ]
  },
  {
   "cell_type": "markdown",
   "id": "8bd4bdf0",
   "metadata": {},
   "source": [
    "**Создадим обощённый тестовый датафрейм**"
   ]
  },
  {
   "cell_type": "code",
   "execution_count": 4,
   "id": "d753a036",
   "metadata": {},
   "outputs": [
    {
     "name": "stderr",
     "output_type": "stream",
     "text": [
      "100%|████████████████████████████████████████████████████████████████████████| 14004/14004 [00:00<00:00, 504457.67it/s]\n"
     ]
    }
   ],
   "source": [
    "data_test = pd.DataFrame(columns=[f\"f{i}\" for i in range(df_coms.shape[1])], data=df_coms)\n",
    "data_test[\"cos\"] = new[\"cos_measure\"]\n",
    "data_test[\"euclid\"] = new[\"euclidean_measure\"]\n",
    "data_test[\"manh\"] = new[\"manhattan_measure\"]\n",
    "data_test[\"toxic\"] = new[\"toxic\"]\n",
    "data_test[\"percent_words\"] = new[\"percent_words\"]\n",
    "data_test[\"hard_sentence\"] = new[\"hard_sentence\"].astype(int)\n",
    "data_test[\"count_words\"] = new[\"count_words\"]\n",
    "data_test[\"unique_words\"] = new[\"unique_words\"]\n",
    "data_test[\"equality_toxic\"] = new[\"equality_toxic\"].astype(int)\n",
    "data_test[\"resemblance\"] = new[\"resemblance\"]\n",
    "\n",
    "groups = []\n",
    "for i in tqdm(range(df_text[::5].shape[0])):\n",
    "    groups += [i] * 5\n",
    "    \n",
    "data_test[\"group_id\"] = groups\n",
    "\n",
    "del df_coms, groups, df_text, new\n",
    "gc.collect();"
   ]
  },
  {
   "cell_type": "markdown",
   "id": "d6cb4a05",
   "metadata": {},
   "source": [
    "**Загрузим обученную модель**"
   ]
  },
  {
   "cell_type": "code",
   "execution_count": 5,
   "id": "382a9985",
   "metadata": {},
   "outputs": [
    {
     "data": {
      "text/plain": [
       "<catboost.core.CatBoostRanker at 0x192dae44ca0>"
      ]
     },
     "execution_count": 5,
     "metadata": {},
     "output_type": "execute_result"
    }
   ],
   "source": [
    "ranker = CatBoostRanker()\n",
    "ranker.load_model(\"models/ranker\")"
   ]
  },
  {
   "cell_type": "markdown",
   "id": "ccf9a723",
   "metadata": {},
   "source": [
    "**Соберём пул тестовых данных для предсказания рангов**"
   ]
  },
  {
   "cell_type": "code",
   "execution_count": 6,
   "id": "d8c9ef18",
   "metadata": {},
   "outputs": [],
   "source": [
    "cols = list(data_test)\n",
    "cols.remove(\"group_id\")\n",
    "\n",
    "test_pool = Pool(\n",
    "    data=data_test[cols],\n",
    "    group_id=data_test[\"group_id\"].values\n",
    ")"
   ]
  },
  {
   "cell_type": "markdown",
   "id": "04333a7d",
   "metadata": {},
   "source": [
    "**Сделаем предсказания и соберём данные в jsonl**"
   ]
  },
  {
   "cell_type": "code",
   "execution_count": 7,
   "id": "b2e9ba0f",
   "metadata": {},
   "outputs": [],
   "source": [
    "preds = ranker.predict(test_pool)"
   ]
  },
  {
   "cell_type": "code",
   "execution_count": 8,
   "id": "0db99e49",
   "metadata": {},
   "outputs": [
    {
     "name": "stdout",
     "output_type": "stream",
     "text": [
      "(14004, 2)\n"
     ]
    },
    {
     "data": {
      "application/vnd.jupyter.widget-view+json": {
       "model_id": "203603c32465425990f4763adcf06e82",
       "version_major": 2,
       "version_minor": 0
      },
      "text/plain": [
       "0it [00:00, ?it/s]"
      ]
     },
     "metadata": {},
     "output_type": "display_data"
    }
   ],
   "source": [
    "test = pd.read_json(\"data/ranking_test.jsonl\", lines = True)\n",
    "print(test.shape)\n",
    "test = utils.get_valid_stucture(test, is_train=False)\n",
    "test[\"preds\"] = preds"
   ]
  },
  {
   "cell_type": "code",
   "execution_count": 9,
   "id": "31a712b8",
   "metadata": {},
   "outputs": [],
   "source": [
    "text_index = test.index[test.index % 5 == 0]"
   ]
  },
  {
   "cell_type": "code",
   "execution_count": 10,
   "id": "5d862b71",
   "metadata": {},
   "outputs": [
    {
     "name": "stderr",
     "output_type": "stream",
     "text": [
      "100%|███████████████████████████████████████████████████████████████████████████| 14004/14004 [00:58<00:00, 240.85it/s]\n"
     ]
    }
   ],
   "source": [
    "json_list = []\n",
    "for i in tqdm(text_index):\n",
    "    json_ = {}\n",
    "    text = test.loc[i, \"text\"]\n",
    "    comments = []\n",
    "    temp = test.loc[i:i+4, [\"comments\", \"preds\"]].sort_values(by=\"preds\").reset_index(drop=True)\n",
    "    for val in temp.iterrows():\n",
    "        comments.append(\n",
    "            {\n",
    "                \"text\": val[1][\"comments\"],\n",
    "                \"score\": val[0]\n",
    "            }\n",
    "        )\n",
    "    json_[\"text\"] = text\n",
    "    json_[\"comments\"] = comments\n",
    "    json_list.append(json_)\n",
    "assert len(json_list) == (test.shape[0] / 5)"
   ]
  },
  {
   "cell_type": "code",
   "execution_count": 11,
   "id": "c722a97d",
   "metadata": {},
   "outputs": [],
   "source": [
    "with open(\"predictions.jsonl\", 'w') as file:\n",
    "    for item in json_list:\n",
    "        file.write(json.dumps(item) + \"\\n\")"
   ]
  },
  {
   "cell_type": "markdown",
   "id": "5a2252d8",
   "metadata": {},
   "source": [
    "---"
   ]
  }
 ],
 "metadata": {
  "kernelspec": {
   "display_name": "Python 3 (ipykernel)",
   "language": "python",
   "name": "python3"
  },
  "language_info": {
   "codemirror_mode": {
    "name": "ipython",
    "version": 3
   },
   "file_extension": ".py",
   "mimetype": "text/x-python",
   "name": "python",
   "nbconvert_exporter": "python",
   "pygments_lexer": "ipython3",
   "version": "3.9.13"
  },
  "varInspector": {
   "cols": {
    "lenName": 16,
    "lenType": 16,
    "lenVar": 40
   },
   "kernels_config": {
    "python": {
     "delete_cmd_postfix": "",
     "delete_cmd_prefix": "del ",
     "library": "var_list.py",
     "varRefreshCmd": "print(var_dic_list())"
    },
    "r": {
     "delete_cmd_postfix": ") ",
     "delete_cmd_prefix": "rm(",
     "library": "var_list.r",
     "varRefreshCmd": "cat(var_dic_list()) "
    }
   },
   "types_to_exclude": [
    "module",
    "function",
    "builtin_function_or_method",
    "instance",
    "_Feature"
   ],
   "window_display": false
  }
 },
 "nbformat": 4,
 "nbformat_minor": 5
}
