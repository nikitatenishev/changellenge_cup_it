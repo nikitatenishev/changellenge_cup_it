{
 "cells": [
  {
   "cell_type": "markdown",
   "id": "b8d06e17",
   "metadata": {},
   "source": [
    "**Загрузим необходимый функционал**"
   ]
  },
  {
   "cell_type": "code",
   "execution_count": 1,
   "id": "9d665b36",
   "metadata": {},
   "outputs": [],
   "source": [
    "import re\n",
    "import sys\n",
    "import numpy as np\n",
    "import pandas as pd\n",
    "from tqdm import tqdm\n",
    "from enum import Enum\n",
    "from src import utils\n",
    "\n",
    "tqdm.pandas()"
   ]
  },
  {
   "cell_type": "markdown",
   "id": "6da29c2e",
   "metadata": {},
   "source": [
    "**Определим пути до файлов**"
   ]
  },
  {
   "cell_type": "code",
   "execution_count": 2,
   "id": "2dea6de1",
   "metadata": {},
   "outputs": [],
   "source": [
    "class Paths(Enum):\n",
    "    train = \"data/ranking_train.jsonl\"\n",
    "    stopwords_coms = \"auxiliary_data/stopwords_coms.txt\"\n",
    "    stopwords_text = \"auxiliary_data/stopwords_text.txt\"\n",
    "    hard_words = \"auxiliary_data/hard_words.txt\""
   ]
  },
  {
   "cell_type": "markdown",
   "id": "07ced78f",
   "metadata": {},
   "source": [
    "**Загрузим данные**"
   ]
  },
  {
   "cell_type": "code",
   "execution_count": 3,
   "id": "795dda27",
   "metadata": {},
   "outputs": [
    {
     "name": "stdout",
     "output_type": "stream",
     "text": [
      "(88107, 2)\n",
      "[memory usage]: 18.458\n"
     ]
    },
    {
     "data": {
      "text/html": [
       "<div>\n",
       "<style scoped>\n",
       "    .dataframe tbody tr th:only-of-type {\n",
       "        vertical-align: middle;\n",
       "    }\n",
       "\n",
       "    .dataframe tbody tr th {\n",
       "        vertical-align: top;\n",
       "    }\n",
       "\n",
       "    .dataframe thead th {\n",
       "        text-align: right;\n",
       "    }\n",
       "</style>\n",
       "<table border=\"1\" class=\"dataframe\">\n",
       "  <thead>\n",
       "    <tr style=\"text-align: right;\">\n",
       "      <th></th>\n",
       "      <th>text</th>\n",
       "      <th>comments</th>\n",
       "    </tr>\n",
       "  </thead>\n",
       "  <tbody>\n",
       "    <tr>\n",
       "      <th>59710</th>\n",
       "      <td>Show HN: My weekend Project - Almost Flat UI T...</td>\n",
       "      <td>[{'text': 'Really nice. I'd remove the hover e...</td>\n",
       "    </tr>\n",
       "    <tr>\n",
       "      <th>56472</th>\n",
       "      <td>GitLab v4.1 released</td>\n",
       "      <td>[{'text': 'While I love that this is being bui...</td>\n",
       "    </tr>\n",
       "    <tr>\n",
       "      <th>58421</th>\n",
       "      <td>Software Engineers: What was your biggest ever...</td>\n",
       "      <td>[{'text': 'My biggest f'up, so far..It happene...</td>\n",
       "    </tr>\n",
       "    <tr>\n",
       "      <th>1319</th>\n",
       "      <td>Average startup profitability is to decrease b...</td>\n",
       "      <td>[{'text': 'Summary: there appear to be more (h...</td>\n",
       "    </tr>\n",
       "    <tr>\n",
       "      <th>83385</th>\n",
       "      <td>A framework for making 2D DOS games in Lua</td>\n",
       "      <td>[{'text': 'This is cool.But if you really want...</td>\n",
       "    </tr>\n",
       "  </tbody>\n",
       "</table>\n",
       "</div>"
      ],
      "text/plain": [
       "                                                    text  \\\n",
       "59710  Show HN: My weekend Project - Almost Flat UI T...   \n",
       "56472                               GitLab v4.1 released   \n",
       "58421  Software Engineers: What was your biggest ever...   \n",
       "1319   Average startup profitability is to decrease b...   \n",
       "83385         A framework for making 2D DOS games in Lua   \n",
       "\n",
       "                                                comments  \n",
       "59710  [{'text': 'Really nice. I'd remove the hover e...  \n",
       "56472  [{'text': 'While I love that this is being bui...  \n",
       "58421  [{'text': 'My biggest f'up, so far..It happene...  \n",
       "1319   [{'text': 'Summary: there appear to be more (h...  \n",
       "83385  [{'text': 'This is cool.But if you really want...  "
      ]
     },
     "execution_count": 3,
     "metadata": {},
     "output_type": "execute_result"
    }
   ],
   "source": [
    "train = pd.read_json(Paths.train.value, lines = True)\n",
    "print(train.shape)\n",
    "print(f\"[memory usage]: {round(sys.getsizeof(train) / 1024 ** 2, 3)}\")\n",
    "train.sample(5)"
   ]
  },
  {
   "cell_type": "markdown",
   "id": "c35b52a9",
   "metadata": {},
   "source": [
    "**Определим язык постов и удалим невалидные посты с категорией \"unknown\"**"
   ]
  },
  {
   "cell_type": "code",
   "execution_count": 4,
   "id": "6c97ea27",
   "metadata": {},
   "outputs": [
    {
     "name": "stderr",
     "output_type": "stream",
     "text": [
      "100%|███████████████████████████████████████████████████████████████████████████| 88107/88107 [07:32<00:00, 194.64it/s]\n"
     ]
    }
   ],
   "source": [
    "train[\"lang\"] = train[\"text\"].progress_apply(utils.get_lang)\n",
    "train.drop(\n",
    "    train[train[\"lang\"] == \"unknown\"].index,\n",
    "    axis=0,\n",
    "    inplace=True\n",
    ")\n",
    "train.reset_index(drop=True, inplace=True)\n",
    "train.drop(\"lang\", axis=1, inplace=True)"
   ]
  },
  {
   "cell_type": "markdown",
   "id": "385d3b35",
   "metadata": {},
   "source": [
    "**Преобразуем данные в формат таблички**"
   ]
  },
  {
   "cell_type": "code",
   "execution_count": 5,
   "id": "4f5a41b5",
   "metadata": {},
   "outputs": [
    {
     "data": {
      "application/vnd.jupyter.widget-view+json": {
       "model_id": "70ea3be0d2e7450cb6ac9467e31e19ad",
       "version_major": 2,
       "version_minor": 0
      },
      "text/plain": [
       "0it [00:00, ?it/s]"
      ]
     },
     "metadata": {},
     "output_type": "display_data"
    },
    {
     "data": {
      "text/html": [
       "<div>\n",
       "<style scoped>\n",
       "    .dataframe tbody tr th:only-of-type {\n",
       "        vertical-align: middle;\n",
       "    }\n",
       "\n",
       "    .dataframe tbody tr th {\n",
       "        vertical-align: top;\n",
       "    }\n",
       "\n",
       "    .dataframe thead th {\n",
       "        text-align: right;\n",
       "    }\n",
       "</style>\n",
       "<table border=\"1\" class=\"dataframe\">\n",
       "  <thead>\n",
       "    <tr style=\"text-align: right;\">\n",
       "      <th></th>\n",
       "      <th>text</th>\n",
       "      <th>comments</th>\n",
       "      <th>score</th>\n",
       "    </tr>\n",
       "  </thead>\n",
       "  <tbody>\n",
       "    <tr>\n",
       "      <th>118249</th>\n",
       "      <td>Re-entry to US without backscatter or pat-down</td>\n",
       "      <td>Oh wow, I had no idea they scan you after re-e...</td>\n",
       "      <td>4</td>\n",
       "    </tr>\n",
       "    <tr>\n",
       "      <th>185711</th>\n",
       "      <td>How to hire an idiot</td>\n",
       "      <td>The hiring process and possibly placing too mu...</td>\n",
       "      <td>1</td>\n",
       "    </tr>\n",
       "    <tr>\n",
       "      <th>415117</th>\n",
       "      <td>LibreDWG drama: the end or the new beginning? ...</td>\n",
       "      <td>The GPL prevents you from shipping compiled bi...</td>\n",
       "      <td>2</td>\n",
       "    </tr>\n",
       "    <tr>\n",
       "      <th>92286</th>\n",
       "      <td>I am an edge case</td>\n",
       "      <td>Ok, how's this for an edge case...I'm a Canadi...</td>\n",
       "      <td>1</td>\n",
       "    </tr>\n",
       "    <tr>\n",
       "      <th>177000</th>\n",
       "      <td>Why Some Languages Sound Faster Than Others</td>\n",
       "      <td>I've been living in Vietnam and trying to lear...</td>\n",
       "      <td>0</td>\n",
       "    </tr>\n",
       "  </tbody>\n",
       "</table>\n",
       "</div>"
      ],
      "text/plain": [
       "                                                     text  \\\n",
       "118249     Re-entry to US without backscatter or pat-down   \n",
       "185711                              How to hire an idiot    \n",
       "415117  LibreDWG drama: the end or the new beginning? ...   \n",
       "92286                                   I am an edge case   \n",
       "177000        Why Some Languages Sound Faster Than Others   \n",
       "\n",
       "                                                 comments  score  \n",
       "118249  Oh wow, I had no idea they scan you after re-e...      4  \n",
       "185711  The hiring process and possibly placing too mu...      1  \n",
       "415117  The GPL prevents you from shipping compiled bi...      2  \n",
       "92286   Ok, how's this for an edge case...I'm a Canadi...      1  \n",
       "177000  I've been living in Vietnam and trying to lear...      0  "
      ]
     },
     "execution_count": 5,
     "metadata": {},
     "output_type": "execute_result"
    }
   ],
   "source": [
    "train = utils.get_valid_stucture(train)\n",
    "train.sample(5)"
   ]
  },
  {
   "cell_type": "markdown",
   "id": "893ece65",
   "metadata": {},
   "source": [
    "**Чистим текст от url, оставляя домен второго уровня**"
   ]
  },
  {
   "cell_type": "code",
   "execution_count": 6,
   "id": "280bd10f",
   "metadata": {},
   "outputs": [
    {
     "name": "stderr",
     "output_type": "stream",
     "text": [
      "100%|██████████████████████████████████████████████████████████████████████| 440435/440435 [00:02<00:00, 170849.83it/s]\n",
      "100%|███████████████████████████████████████████████████████████████████████| 440435/440435 [00:15<00:00, 29345.55it/s]\n"
     ]
    }
   ],
   "source": [
    "train[\"text\"] = train[\"text\"].progress_apply(utils.clean_domain)\n",
    "train[\"comments\"] = train[\"comments\"].progress_apply(utils.clean_domain)"
   ]
  },
  {
   "cell_type": "markdown",
   "id": "8f256090",
   "metadata": {},
   "source": [
    "**Чистим текст от пунктуации**"
   ]
  },
  {
   "cell_type": "code",
   "execution_count": 7,
   "id": "e91d858f",
   "metadata": {},
   "outputs": [
    {
     "name": "stderr",
     "output_type": "stream",
     "text": [
      "100%|██████████████████████████████████████████████████████████████████████| 440435/440435 [00:00<00:00, 457570.16it/s]\n",
      "100%|███████████████████████████████████████████████████████████████████████| 440435/440435 [00:04<00:00, 94156.61it/s]\n"
     ]
    }
   ],
   "source": [
    "train[\"text\"] = train[\"text\"].progress_apply(utils.clean_punctuation)\n",
    "train[\"comments\"] = train[\"comments\"].progress_apply(utils.clean_punctuation)"
   ]
  },
  {
   "cell_type": "markdown",
   "id": "0bff6e17",
   "metadata": {},
   "source": [
    "**Загружаем стоп слова для поста и для комментариев** "
   ]
  },
  {
   "cell_type": "code",
   "execution_count": 8,
   "id": "14ea163a",
   "metadata": {},
   "outputs": [],
   "source": [
    "with open(Paths.stopwords_coms.value, \"r\") as file:\n",
    "    stopwords_coms = list(map(\n",
    "        lambda x: x.strip(), file.readlines()\n",
    "    ))\n",
    "    \n",
    "with open(Paths.stopwords_text.value, \"r\") as file:\n",
    "    stopwords_text = list(map(\n",
    "        lambda x: x.strip(), file.readlines()\n",
    "    ))"
   ]
  },
  {
   "cell_type": "markdown",
   "id": "fb4a09b1",
   "metadata": {},
   "source": [
    "**Чистим текст от \\xa0**"
   ]
  },
  {
   "cell_type": "code",
   "execution_count": 9,
   "id": "f2c9521e",
   "metadata": {},
   "outputs": [
    {
     "name": "stderr",
     "output_type": "stream",
     "text": [
      "100%|█████████████████████████████████████████████████████████████████████| 440435/440435 [00:00<00:00, 1424630.43it/s]\n",
      "100%|█████████████████████████████████████████████████████████████████████| 440435/440435 [00:00<00:00, 1220112.26it/s]\n"
     ]
    }
   ],
   "source": [
    "train[\"text\"] = train[\"text\"].progress_apply(utils.replace_xa0)\n",
    "train[\"comments\"] = train[\"comments\"].progress_apply(utils.replace_xa0)"
   ]
  },
  {
   "cell_type": "markdown",
   "id": "6a441490",
   "metadata": {},
   "source": [
    "**Чистим текст от эмодзи**"
   ]
  },
  {
   "cell_type": "code",
   "execution_count": 10,
   "id": "7cc53b7d",
   "metadata": {},
   "outputs": [
    {
     "name": "stderr",
     "output_type": "stream",
     "text": [
      "100%|██████████████████████████████████████████████████████████████████████| 440435/440435 [00:01<00:00, 266701.18it/s]\n",
      "100%|███████████████████████████████████████████████████████████████████████| 440435/440435 [00:06<00:00, 71976.55it/s]\n"
     ]
    }
   ],
   "source": [
    "train[\"text\"] = train[\"text\"].progress_apply(utils.remove_emoji)\n",
    "train[\"comments\"] = train[\"comments\"].progress_apply(utils.remove_emoji)"
   ]
  },
  {
   "cell_type": "markdown",
   "id": "e39500d0",
   "metadata": {},
   "source": [
    "**Чистим текст от множества пробелов**"
   ]
  },
  {
   "cell_type": "code",
   "execution_count": 11,
   "id": "6c9f9a90",
   "metadata": {},
   "outputs": [
    {
     "name": "stderr",
     "output_type": "stream",
     "text": [
      "100%|██████████████████████████████████████████████████████████████████████| 440435/440435 [00:01<00:00, 302064.09it/s]\n",
      "100%|███████████████████████████████████████████████████████████████████████| 440435/440435 [00:09<00:00, 44829.34it/s]\n"
     ]
    }
   ],
   "source": [
    "train[\"text\"] = train[\"text\"].progress_apply(utils.remove_whitespaces)\n",
    "train[\"comments\"] = train[\"comments\"].progress_apply(utils.remove_whitespaces)"
   ]
  },
  {
   "cell_type": "markdown",
   "id": "972bc37b",
   "metadata": {},
   "source": [
    "**Удаляем стоп-слова**"
   ]
  },
  {
   "cell_type": "code",
   "execution_count": 12,
   "id": "79239f14",
   "metadata": {},
   "outputs": [
    {
     "name": "stderr",
     "output_type": "stream",
     "text": [
      "100%|███████████████████████████████████████████████████████████████████████| 440435/440435 [00:06<00:00, 67114.23it/s]\n",
      "100%|████████████████████████████████████████████████████████████████████████| 440435/440435 [01:15<00:00, 5818.92it/s]\n"
     ]
    }
   ],
   "source": [
    "train[\"text\"] = train[\"text\"].progress_apply(\n",
    "    lambda x: utils.remove_stopwords(x.lower(), stopwords_text)\n",
    ")\n",
    "train[\"comments\"] = train[\"comments\"].progress_apply(\n",
    "    lambda x: utils.remove_stopwords(x.lower(), stopwords_coms)\n",
    ")"
   ]
  },
  {
   "cell_type": "markdown",
   "id": "f473a7ba",
   "metadata": {},
   "source": [
    "**Чистим текст от множества пробелов**"
   ]
  },
  {
   "cell_type": "code",
   "execution_count": 13,
   "id": "c1e43fab",
   "metadata": {},
   "outputs": [
    {
     "name": "stderr",
     "output_type": "stream",
     "text": [
      "100%|██████████████████████████████████████████████████████████████████████| 440435/440435 [00:01<00:00, 367024.19it/s]\n",
      "100%|███████████████████████████████████████████████████████████████████████| 440435/440435 [00:05<00:00, 86034.60it/s]\n"
     ]
    }
   ],
   "source": [
    "train[\"text\"] = train[\"text\"].progress_apply(utils.remove_whitespaces)\n",
    "train[\"comments\"] = train[\"comments\"].progress_apply(utils.remove_whitespaces)"
   ]
  },
  {
   "cell_type": "markdown",
   "id": "e3a0ec62",
   "metadata": {},
   "source": [
    "**Заменяем пустые строки в столбцах на \"empty\"**"
   ]
  },
  {
   "cell_type": "code",
   "execution_count": 14,
   "id": "e84c1198",
   "metadata": {},
   "outputs": [],
   "source": [
    "index_nan_text = train[train[\"text\"] == ''].index\n",
    "index_nan_comments = train[train[\"text\"] == ''].index\n",
    "\n",
    "train.loc[index_nan_text, \"text\"] = \"empty\"\n",
    "train.loc[index_nan_comments, \"comments\"] = \"empty\""
   ]
  },
  {
   "cell_type": "markdown",
   "id": "02ec4117",
   "metadata": {},
   "source": [
    "Проверим на написание пропусков в данных"
   ]
  },
  {
   "cell_type": "code",
   "execution_count": 15,
   "id": "b576c3dd",
   "metadata": {},
   "outputs": [
    {
     "data": {
      "text/plain": [
       "text        0\n",
       "comments    0\n",
       "score       0\n",
       "dtype: int64"
      ]
     },
     "execution_count": 15,
     "metadata": {},
     "output_type": "execute_result"
    }
   ],
   "source": [
    "train.isna().sum()"
   ]
  },
  {
   "cell_type": "markdown",
   "id": "f5ce4d9d",
   "metadata": {},
   "source": [
    "**Создаем файлы с эмбеддингами поста и комментариев**"
   ]
  },
  {
   "cell_type": "code",
   "execution_count": 16,
   "id": "5843230f",
   "metadata": {},
   "outputs": [
    {
     "name": "stderr",
     "output_type": "stream",
     "text": [
      "No sentence-transformers model found with name C:\\Users\\ozher/.cache\\torch\\sentence_transformers\\bert-base-multilingual-cased. Creating a new one with MEAN pooling.\n",
      "Some weights of the model checkpoint at C:\\Users\\ozher/.cache\\torch\\sentence_transformers\\bert-base-multilingual-cased were not used when initializing BertModel: ['cls.predictions.bias', 'cls.seq_relationship.bias', 'cls.predictions.transform.LayerNorm.bias', 'cls.predictions.transform.dense.bias', 'cls.predictions.transform.dense.weight', 'cls.predictions.decoder.weight', 'cls.seq_relationship.weight', 'cls.predictions.transform.LayerNorm.weight']\n",
      "- This IS expected if you are initializing BertModel from the checkpoint of a model trained on another task or with another architecture (e.g. initializing a BertForSequenceClassification model from a BertForPreTraining model).\n",
      "- This IS NOT expected if you are initializing BertModel from the checkpoint of a model that you expect to be exactly identical (initializing a BertForSequenceClassification model from a BertForSequenceClassification model).\n"
     ]
    },
    {
     "data": {
      "application/vnd.jupyter.widget-view+json": {
       "model_id": "7c16551c541b4ff1aebc20341d5a3159",
       "version_major": 2,
       "version_minor": 0
      },
      "text/plain": [
       "Batches:   0%|          | 0/13764 [00:00<?, ?it/s]"
      ]
     },
     "metadata": {},
     "output_type": "display_data"
    }
   ],
   "source": [
    "utils.create_embeddings(\n",
    "    lang_model=\"bert-base-multilingual-cased\",\n",
    "    data=train, \n",
    "    column=\"text\",\n",
    "    output_filename=\"text_embed_train\",\n",
    "    device=\"cuda\"\n",
    ")"
   ]
  },
  {
   "cell_type": "code",
   "execution_count": 16,
   "id": "31d8e5bb",
   "metadata": {},
   "outputs": [
    {
     "name": "stderr",
     "output_type": "stream",
     "text": [
      "No sentence-transformers model found with name C:\\Users\\ozher/.cache\\torch\\sentence_transformers\\bert-base-multilingual-cased. Creating a new one with MEAN pooling.\n",
      "Some weights of the model checkpoint at C:\\Users\\ozher/.cache\\torch\\sentence_transformers\\bert-base-multilingual-cased were not used when initializing BertModel: ['cls.seq_relationship.weight', 'cls.predictions.transform.LayerNorm.bias', 'cls.predictions.transform.LayerNorm.weight', 'cls.predictions.transform.dense.weight', 'cls.predictions.transform.dense.bias', 'cls.predictions.decoder.weight', 'cls.predictions.bias', 'cls.seq_relationship.bias']\n",
      "- This IS expected if you are initializing BertModel from the checkpoint of a model trained on another task or with another architecture (e.g. initializing a BertForSequenceClassification model from a BertForPreTraining model).\n",
      "- This IS NOT expected if you are initializing BertModel from the checkpoint of a model that you expect to be exactly identical (initializing a BertForSequenceClassification model from a BertForSequenceClassification model).\n"
     ]
    },
    {
     "data": {
      "application/vnd.jupyter.widget-view+json": {
       "model_id": "203b1da2e09b4aea9d95acd77560f990",
       "version_major": 2,
       "version_minor": 0
      },
      "text/plain": [
       "Batches:   0%|          | 0/13764 [00:00<?, ?it/s]"
      ]
     },
     "metadata": {},
     "output_type": "display_data"
    }
   ],
   "source": [
    "utils.create_embeddings(\n",
    "    lang_model=\"bert-base-multilingual-cased\",\n",
    "    data=train, \n",
    "    column=\"comments\",\n",
    "    output_filename=\"comments_embed_train\",\n",
    "    device=\"cuda\"\n",
    ")"
   ]
  },
  {
   "cell_type": "markdown",
   "id": "56141ed8",
   "metadata": {},
   "source": [
    "**Создаем файлы с вероятностью токсичности поста и комментариев**"
   ]
  },
  {
   "cell_type": "code",
   "execution_count": 22,
   "id": "0f1457b6",
   "metadata": {},
   "outputs": [],
   "source": [
    "utils.create_toxic(\n",
    "    df=train,\n",
    "    column=\"text\",\n",
    "    output_filename=\"text_toxic_train\",\n",
    "    device=0\n",
    ")"
   ]
  },
  {
   "cell_type": "code",
   "execution_count": 23,
   "id": "0b9f3bde",
   "metadata": {},
   "outputs": [],
   "source": [
    "utils.create_toxic(\n",
    "    df=train,\n",
    "    column=\"comments\",\n",
    "    output_filename=\"comments_toxic_train\",\n",
    "    device=0\n",
    ")"
   ]
  },
  {
   "cell_type": "markdown",
   "id": "980e1192",
   "metadata": {},
   "source": [
    "**Создаем файлы 3 расстояний: косинусное, евклидово, манхэттенское**"
   ]
  },
  {
   "cell_type": "code",
   "execution_count": 19,
   "id": "6c408e3f",
   "metadata": {},
   "outputs": [],
   "source": [
    "with open(\"auxiliary_data/text_embed_train.npy\", \"rb\") as f:\n",
    "    df_text = np.load(f)\n",
    "    \n",
    "with open(\"auxiliary_data/comments_embed_train.npy\", \"rb\") as f:\n",
    "    df_coms = np.load(f)"
   ]
  },
  {
   "cell_type": "code",
   "execution_count": 21,
   "id": "ff65ddd1",
   "metadata": {},
   "outputs": [
    {
     "data": {
      "application/vnd.jupyter.widget-view+json": {
       "model_id": "c58c4ea37b4d48b8b9aa3262976a5949",
       "version_major": 2,
       "version_minor": 0
      },
      "text/plain": [
       "  0%|          | 0/88087 [00:00<?, ?it/s]"
      ]
     },
     "metadata": {},
     "output_type": "display_data"
    },
    {
     "data": {
      "application/vnd.jupyter.widget-view+json": {
       "model_id": "661c13348bd044bcb4eac67cd655f456",
       "version_major": 2,
       "version_minor": 0
      },
      "text/plain": [
       "  0%|          | 0/88087 [00:00<?, ?it/s]"
      ]
     },
     "metadata": {},
     "output_type": "display_data"
    },
    {
     "data": {
      "application/vnd.jupyter.widget-view+json": {
       "model_id": "20bc1fcbd04f49838069c629865ab9e4",
       "version_major": 2,
       "version_minor": 0
      },
      "text/plain": [
       "  0%|          | 0/88087 [00:00<?, ?it/s]"
      ]
     },
     "metadata": {},
     "output_type": "display_data"
    }
   ],
   "source": [
    "utils.calulacte_cos_measure(\n",
    "    df_coms,\n",
    "    df_text,\n",
    "    output_filename=\"cos_measure_train\"\n",
    ")\n",
    "utils.calculate_euclidean_measure(\n",
    "    df_coms,\n",
    "    df_text,\n",
    "    output_filename=\"euclidean_measure_train\"\n",
    ")\n",
    "utils.calculate_manhattan_measure(\n",
    "    df_coms,\n",
    "    df_text,\n",
    "    output_filename=\"manhattan_measure_train\"\n",
    ")"
   ]
  },
  {
   "cell_type": "markdown",
   "id": "4270c20f",
   "metadata": {},
   "source": [
    "**Создаем 3 признака: количество слов в комменатрии, количество слов в группе, процент слов коммментария относительнно группы, а также удаляем признак количества слов в группе**"
   ]
  },
  {
   "cell_type": "code",
   "execution_count": 25,
   "id": "eb6383cf",
   "metadata": {},
   "outputs": [
    {
     "name": "stderr",
     "output_type": "stream",
     "text": [
      "100%|██████████████████████████████████████████████████████████████████████| 440435/440435 [00:00<00:00, 693105.55it/s]\n"
     ]
    }
   ],
   "source": [
    "train[\"count_words\"] = train.comments.progress_apply(utils.get_text_len)\n",
    "train[\"count_words_group\"] = train.groupby(\"text\")[\"count_words\"].transform(\"sum\")\n",
    "train[\"percent_words\"] = train[\"count_words\"] / train[\"count_words_group\"]\n",
    "train.drop(\"count_words_group\", axis=1, inplace=True)"
   ]
  },
  {
   "cell_type": "markdown",
   "id": "8fad5042",
   "metadata": {},
   "source": [
    "**Создаем признак уникальных слов в комменатрии**"
   ]
  },
  {
   "cell_type": "code",
   "execution_count": 26,
   "id": "3eea486e",
   "metadata": {},
   "outputs": [
    {
     "name": "stderr",
     "output_type": "stream",
     "text": [
      "100%|█████████████████████████████████████████████████████████████████████████| 440435/440435 [18:20<00:00, 400.34it/s]\n"
     ]
    }
   ],
   "source": [
    "train[\"unique_words\"] = train.comments.progress_apply(\n",
    "    lambda x: utils.get_nunique_words(re.sub(\"\\s+\", ' ', re.sub(\"\\d+\", '', x)))\n",
    ")"
   ]
  },
  {
   "cell_type": "markdown",
   "id": "d3a986b3",
   "metadata": {},
   "source": [
    "**Создание признака определения схожести текста поста и комментария**"
   ]
  },
  {
   "cell_type": "code",
   "execution_count": 27,
   "id": "5bd1316f",
   "metadata": {},
   "outputs": [
    {
     "name": "stderr",
     "output_type": "stream",
     "text": [
      "100%|█████████████████████████████████████████████████████████████████████████| 440435/440435 [13:40<00:00, 536.48it/s]\n"
     ]
    }
   ],
   "source": [
    "train[\"resemblance\"] = train.progress_apply(\n",
    "    lambda x: utils.resemblance_text(x[\"text\"], x[\"comments\"]), axis=1\n",
    ")"
   ]
  },
  {
   "cell_type": "markdown",
   "id": "4a94bb35",
   "metadata": {},
   "source": [
    "**Создание признака токсичности комменатрия и признака совпадения токсичности поста и комменатрия**"
   ]
  },
  {
   "cell_type": "code",
   "execution_count": 30,
   "id": "98e62f2a",
   "metadata": {},
   "outputs": [],
   "source": [
    "text_toxic = pd.DataFrame(np.load(\"auxiliary_data/text_toxic_train.npy\"))\n",
    "text_toxic.columns = [\"toxic_text\"]"
   ]
  },
  {
   "cell_type": "code",
   "execution_count": 32,
   "id": "390f69ad",
   "metadata": {},
   "outputs": [],
   "source": [
    "comments_toxic = pd.DataFrame(np.load(\"auxiliary_data/comments_toxic_train.npy\"))\n",
    "comments_toxic.columns = [\"toxic\"]"
   ]
  },
  {
   "cell_type": "code",
   "execution_count": 33,
   "id": "3c1e1b25",
   "metadata": {},
   "outputs": [],
   "source": [
    "train = train.join(text_toxic)\n",
    "train = train.join(comments_toxic)"
   ]
  },
  {
   "cell_type": "code",
   "execution_count": 35,
   "id": "e3a64689",
   "metadata": {},
   "outputs": [
    {
     "name": "stderr",
     "output_type": "stream",
     "text": [
      "100%|██████████████████████████████████████████████████████████████████████| 440435/440435 [00:02<00:00, 181423.82it/s]\n"
     ]
    }
   ],
   "source": [
    "train[\"equality_toxic\"] = train.progress_apply(utils.check_equality_toxic, axis=1)"
   ]
  },
  {
   "cell_type": "code",
   "execution_count": 36,
   "id": "188f71b7",
   "metadata": {},
   "outputs": [],
   "source": [
    "train.drop(\"toxic_text\", axis=1, inplace=True)"
   ]
  },
  {
   "cell_type": "markdown",
   "id": "cc254b81",
   "metadata": {},
   "source": [
    "**Загрузка файла с сложными словами и создание признака сложности предложения**"
   ]
  },
  {
   "cell_type": "code",
   "execution_count": 37,
   "id": "b9b49210",
   "metadata": {},
   "outputs": [],
   "source": [
    "with open(Paths.hard_words.value, 'r') as file:\n",
    "    hard_words = list(map(\n",
    "        lambda x: x.strip(), file.readlines()\n",
    "    ))"
   ]
  },
  {
   "cell_type": "code",
   "execution_count": 38,
   "id": "917d3ebf",
   "metadata": {},
   "outputs": [
    {
     "name": "stderr",
     "output_type": "stream",
     "text": [
      "100%|██████████████████████████████████████████████████████████████████████| 440435/440435 [00:01<00:00, 303105.50it/s]\n"
     ]
    }
   ],
   "source": [
    "train[\"hard_sentence\"] = train.comments.progress_apply(\n",
    "    lambda x: utils.feature_hard_word(x, hard_words)\n",
    ")"
   ]
  },
  {
   "cell_type": "markdown",
   "id": "da5c1b63",
   "metadata": {},
   "source": [
    "**Создаем 3 признака расстояний: косинусное, евклидово, манхэттенское**"
   ]
  },
  {
   "cell_type": "code",
   "execution_count": 39,
   "id": "c69c1c5f",
   "metadata": {},
   "outputs": [],
   "source": [
    "cos_measure = pd.DataFrame(np.load(\"auxiliary_data/cos_measure_train.npy\"))\n",
    "cos_measure.columns = [\"cos_measure\"]\n",
    "train = train.join(cos_measure)"
   ]
  },
  {
   "cell_type": "code",
   "execution_count": 40,
   "id": "cf891a76",
   "metadata": {},
   "outputs": [],
   "source": [
    "euclidean_measure = pd.DataFrame(np.load(\"auxiliary_data/euclidean_measure_train.npy\"))\n",
    "euclidean_measure.columns = [\"euclidean_measure\"]\n",
    "train = train.join(euclidean_measure)"
   ]
  },
  {
   "cell_type": "code",
   "execution_count": 41,
   "id": "991ee222",
   "metadata": {},
   "outputs": [],
   "source": [
    "manhattan_measure = pd.DataFrame(np.load(\"auxiliary_data/manhattan_measure_train.npy\"))\n",
    "manhattan_measure.columns = [\"manhattan_measure\"]\n",
    "train = train.join(manhattan_measure)"
   ]
  },
  {
   "cell_type": "code",
   "execution_count": 43,
   "id": "044d35bc",
   "metadata": {},
   "outputs": [],
   "source": [
    "train.to_csv(\"processed_train_data.csv\", index=False)"
   ]
  },
  {
   "cell_type": "markdown",
   "id": "dd3ff20e",
   "metadata": {},
   "source": [
    "---"
   ]
  }
 ],
 "metadata": {
  "kernelspec": {
   "display_name": "Python 3 (ipykernel)",
   "language": "python",
   "name": "python3"
  },
  "language_info": {
   "codemirror_mode": {
    "name": "ipython",
    "version": 3
   },
   "file_extension": ".py",
   "mimetype": "text/x-python",
   "name": "python",
   "nbconvert_exporter": "python",
   "pygments_lexer": "ipython3",
   "version": "3.9.13"
  },
  "varInspector": {
   "cols": {
    "lenName": 16,
    "lenType": 16,
    "lenVar": 40
   },
   "kernels_config": {
    "python": {
     "delete_cmd_postfix": "",
     "delete_cmd_prefix": "del ",
     "library": "var_list.py",
     "varRefreshCmd": "print(var_dic_list())"
    },
    "r": {
     "delete_cmd_postfix": ") ",
     "delete_cmd_prefix": "rm(",
     "library": "var_list.r",
     "varRefreshCmd": "cat(var_dic_list()) "
    }
   },
   "types_to_exclude": [
    "module",
    "function",
    "builtin_function_or_method",
    "instance",
    "_Feature"
   ],
   "window_display": false
  }
 },
 "nbformat": 4,
 "nbformat_minor": 5
}
